{
 "cells": [
  {
   "cell_type": "markdown",
   "id": "1093fa35-4757-4329-8f50-3337b06b9513",
   "metadata": {},
   "source": [
    "# LSGAN"
   ]
  },
  {
   "cell_type": "markdown",
   "id": "276a9de8-0ef5-49c2-9ba9-206389ada52b",
   "metadata": {},
   "source": [
    "- paper : https://arxiv.org/abs/1611.04076\n",
    "- implementation : "
   ]
  },
  {
   "cell_type": "code",
   "execution_count": 4,
   "id": "330a0860-287e-48de-aebb-449250e760eb",
   "metadata": {},
   "outputs": [],
   "source": [
    "import torch\n",
    "from torchvision import transforms\n",
    "from torchvision.datasets import LSUN"
   ]
  },
  {
   "cell_type": "code",
   "execution_count": 5,
   "id": "d05710ec",
   "metadata": {},
   "outputs": [],
   "source": [
    "image_size = 128"
   ]
  },
  {
   "cell_type": "markdown",
   "id": "2f793fb4",
   "metadata": {},
   "source": [
    "## Dataset"
   ]
  },
  {
   "cell_type": "code",
   "execution_count": 6,
   "id": "3e20d526",
   "metadata": {},
   "outputs": [],
   "source": [
    "dataset = LSUN(\n",
    "    root='./data/lsun',\n",
    "    classes=['bridge_train'],\n",
    "    transform=transforms.Compose([\n",
    "        transforms.Resize(image_size),\n",
    "        transforms.CenterCrop(image_size),\n",
    "        transforms.ToTensor(),\n",
    "        transforms.Normalize((0.5, 0.5, 0.5), (0.5, 0.5, 0.5)),\n",
    "    ]),\n",
    ")"
   ]
  },
  {
   "cell_type": "code",
   "execution_count": null,
   "id": "189b2386",
   "metadata": {},
   "outputs": [],
   "source": []
  }
 ],
 "metadata": {
  "kernelspec": {
   "display_name": "Python 3 (ipykernel)",
   "language": "python",
   "name": "python3"
  },
  "language_info": {
   "codemirror_mode": {
    "name": "ipython",
    "version": 3
   },
   "file_extension": ".py",
   "mimetype": "text/x-python",
   "name": "python",
   "nbconvert_exporter": "python",
   "pygments_lexer": "ipython3",
   "version": "3.8.12"
  }
 },
 "nbformat": 4,
 "nbformat_minor": 5
}
