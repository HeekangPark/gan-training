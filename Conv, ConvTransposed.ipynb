{
 "cells": [
  {
   "cell_type": "code",
   "execution_count": 73,
   "id": "1a8c6c20-0606-4c5c-a503-d8f7bfdfc43c",
   "metadata": {},
   "outputs": [],
   "source": [
    "h = 3\n",
    "w = 4\n",
    "c_in = 2\n",
    "k = 2\n",
    "c_out = 3\n",
    "\n",
    "x = torch.arange(c_in * h * w).view([1, c_in, h, w]).double() / 10\n",
    "weight = torch.arange(c_out * c_in * k * k).view([c_out, c_in, k, k]).double() / 10\n",
    "\n",
    "conv = nn.Conv2d(\n",
    "    in_channels=c_in,\n",
    "    out_channels=c_out,\n",
    "    kernel_size=k,\n",
    "    stride=1,\n",
    "    padding=0,\n",
    "    dilation=1,\n",
    "    bias=False\n",
    ")\n",
    "conv.weight.data = weight\n",
    "\n",
    "y = conv(x)"
   ]
  },
  {
   "cell_type": "code",
   "execution_count": 120,
   "id": "d386ddd4-ee45-4364-a4d1-f4e5f74d6892",
   "metadata": {},
   "outputs": [],
   "source": [
    "h = 2\n",
    "w = 3\n",
    "c_in = 2\n",
    "k = 4\n",
    "c_out = 2\n",
    "\n",
    "x = torch.arange(c_in * h * w).view([1, c_in, h, w]).double() / 10\n",
    "weight = torch.arange(c_out * c_in * k * k).view([c_in, c_out, k, k]).double() / 10\n",
    "\n",
    "conv_trans = nn.ConvTranspose2d(\n",
    "    in_channels=c_in,\n",
    "    out_channels=c_out,\n",
    "    kernel_size=k,\n",
    "    stride=1,\n",
    "    padding=0,\n",
    "    dilation=1,\n",
    "    bias=False\n",
    ")\n",
    "conv_trans.weight.data = weight\n",
    "\n",
    "y = conv_trans(x)"
   ]
  },
  {
   "cell_type": "code",
   "execution_count": 121,
   "id": "ee4702c5-8dfc-4a60-9426-cd96a63faefe",
   "metadata": {},
   "outputs": [
    {
     "data": {
      "text/plain": [
       "torch.Size([1, 2, 2, 3])"
      ]
     },
     "execution_count": 121,
     "metadata": {},
     "output_type": "execute_result"
    }
   ],
   "source": [
    "x.shape"
   ]
  },
  {
   "cell_type": "code",
   "execution_count": 122,
   "id": "813f4c8b-bdb7-4a3a-98da-7b8c42b848c9",
   "metadata": {},
   "outputs": [
    {
     "data": {
      "text/plain": [
       "torch.Size([1, 2, 5, 6])"
      ]
     },
     "execution_count": 122,
     "metadata": {},
     "output_type": "execute_result"
    }
   ],
   "source": [
    "y.shape"
   ]
  },
  {
   "cell_type": "code",
   "execution_count": 123,
   "id": "8e355be6-244c-49cf-a6e3-637f3ae637fa",
   "metadata": {},
   "outputs": [
    {
     "data": {
      "text/plain": [
       "torch.Size([2, 2, 4, 4])"
      ]
     },
     "execution_count": 123,
     "metadata": {},
     "output_type": "execute_result"
    }
   ],
   "source": [
    "weight.shape"
   ]
  },
  {
   "cell_type": "code",
   "execution_count": 124,
   "id": "3db093ef-2452-4897-81b7-d96dd7aee300",
   "metadata": {},
   "outputs": [
    {
     "data": {
      "text/plain": [
       "tensor([[0.0000, 0.1000, 0.2000],\n",
       "        [0.3000, 0.4000, 0.5000]], dtype=torch.float64)"
      ]
     },
     "execution_count": 124,
     "metadata": {},
     "output_type": "execute_result"
    }
   ],
   "source": [
    "x[0][0]"
   ]
  },
  {
   "cell_type": "code",
   "execution_count": 125,
   "id": "9ad68671-feda-4aa9-8638-ea20cd34b456",
   "metadata": {},
   "outputs": [
    {
     "data": {
      "text/plain": [
       "2"
      ]
     },
     "execution_count": 125,
     "metadata": {},
     "output_type": "execute_result"
    }
   ],
   "source": [
    "len(weight)"
   ]
  },
  {
   "cell_type": "code",
   "execution_count": 126,
   "id": "2938b7b1-614c-4175-b86b-6c74e3e65fee",
   "metadata": {},
   "outputs": [
    {
     "data": {
      "text/plain": [
       "tensor([[ 1.9200,  4.2200,  6.9200,  7.1600,  5.2400,  2.8600],\n",
       "        [ 5.0400, 10.9800, 17.8600, 18.5200, 13.4200,  7.2600],\n",
       "        [ 5.7600, 12.5800, 20.5000, 21.1600, 15.3400,  8.3000],\n",
       "        [ 6.4800, 14.1800, 23.1400, 23.8000, 17.2600,  9.3400],\n",
       "        [ 4.3200,  9.3200, 15.0200, 15.4400, 11.0600,  5.9200]],\n",
       "       dtype=torch.float64, grad_fn=<SelectBackward0>)"
      ]
     },
     "execution_count": 126,
     "metadata": {},
     "output_type": "execute_result"
    }
   ],
   "source": [
    "y[0][0]"
   ]
  },
  {
   "cell_type": "code",
   "execution_count": null,
   "id": "0ff8f324-add6-4eeb-92e1-2f72325fc337",
   "metadata": {},
   "outputs": [],
   "source": []
  }
 ],
 "metadata": {
  "kernelspec": {
   "display_name": "Python 3 (ipykernel)",
   "language": "python",
   "name": "python3"
  },
  "language_info": {
   "codemirror_mode": {
    "name": "ipython",
    "version": 3
   },
   "file_extension": ".py",
   "mimetype": "text/x-python",
   "name": "python",
   "nbconvert_exporter": "python",
   "pygments_lexer": "ipython3",
   "version": "3.8.12"
  }
 },
 "nbformat": 4,
 "nbformat_minor": 5
}
