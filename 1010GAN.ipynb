{
 "cells": [
  {
   "cell_type": "markdown",
   "id": "9e55226c-34d9-4b52-88b2-a5a77853df50",
   "metadata": {
    "tags": []
   },
   "source": [
    "# 1010 GAN"
   ]
  },
  {
   "cell_type": "markdown",
   "id": "92ab7915-c867-490a-9761-4dd78a9c7174",
   "metadata": {},
   "source": [
    "- paper, implementation : <GAN 첫걸음>"
   ]
  },
  {
   "cell_type": "code",
   "execution_count": 1,
   "id": "51e4f930-39dc-4583-8d51-7b66d5af1d74",
   "metadata": {},
   "outputs": [],
   "source": [
    "import torch\n",
    "import torch.nn as nn\n",
    "import torch.optim as optim\n",
    "\n",
    "import numpy as np"
   ]
  },
  {
   "cell_type": "code",
   "execution_count": 12,
   "id": "af691722-79fb-43ec-982b-af4c033270c4",
   "metadata": {},
   "outputs": [],
   "source": [
    "BATCH_SIZE = 8192\n",
    "BATCH_NUM = 1000\n",
    "EPOCHS = 10\n",
    "device = \"cuda:0\""
   ]
  },
  {
   "cell_type": "markdown",
   "id": "47d4bb31-80bf-45b9-8c07-e4c6b9a91e9f",
   "metadata": {
    "tags": []
   },
   "source": [
    "## Make Training Dataset"
   ]
  },
  {
   "cell_type": "code",
   "execution_count": 13,
   "id": "8ff32237-a469-492f-850c-717f7f5aab8c",
   "metadata": {},
   "outputs": [],
   "source": [
    "labels = np.random.randint(low=0, high=2, size=(BATCH_SIZE * BATCH_NUM,))\n",
    "\n",
    "examples = np.random.rand(BATCH_SIZE * BATCH_NUM, 4)\n",
    "examples[labels == 1, 0] = examples[labels == 1, 0] * 0.2\n",
    "examples[labels == 1, 1] = examples[labels == 1, 1] * 0.2 + 0.8\n",
    "examples[labels == 1, 2] = examples[labels == 1, 2] * 0.2\n",
    "examples[labels == 1, 3] = examples[labels == 1, 3] * 0.2 + 0.8\n",
    "\n",
    "delim = \"\\t\"\n",
    "with open(\"train.tsv\", \"w\") as f:\n",
    "    f.write(f\"ex0{delim}ex1{delim}ex2{delim}ex3{delim}label\\n\")\n",
    "    f.write('\\n'.join([f\"{examples[i, 0]}{delim}{examples[i, 1]}{delim}{examples[i, 2]}{delim}{examples[i, 3]}{delim}{labels[i]}\" for i in range(BATCH_SIZE * BATCH_NUM)]))"
   ]
  },
  {
   "cell_type": "markdown",
   "id": "3f25c0a1-09f9-4865-bc9e-6fe8d6567154",
   "metadata": {},
   "source": [
    "## Read Training Dataset"
   ]
  },
  {
   "cell_type": "code",
   "execution_count": 37,
   "id": "701bff45-b274-4794-9d7e-750bd142b410",
   "metadata": {},
   "outputs": [],
   "source": [
    "class Iterator:\n",
    "    def __init__(self, file, delim, device):\n",
    "        self.file = open(file, \"r\")\n",
    "        self._resetFile()\n",
    "        \n",
    "        self.delim = delim\n",
    "        \n",
    "        self.device = device\n",
    "        self.idx = 0\n",
    "    \n",
    "    def _resetFile(self):\n",
    "        self.file.seek(0)\n",
    "        self.file.readline() # remove header line\n",
    "        \n",
    "    def __next__(self):\n",
    "        lines = [self.file.readline().strip() for x in range(BATCH_SIZE)]\n",
    "        if len(lines[0]) == 0:\n",
    "            self._resetFile()\n",
    "            raise StopIteration\n",
    "        \n",
    "        dataset = np.array([[\n",
    "                float(x.split(self.delim)[0]),\n",
    "                float(x.split(self.delim)[1]),\n",
    "                float(x.split(self.delim)[2]),\n",
    "                float(x.split(self.delim)[3]),\n",
    "                int(x.split(self.delim)[4])\n",
    "            ] for x in lines])\n",
    "        \n",
    "        examples = torch.tensor(dataset[:, :4], dtype=torch.float32, device=self.device)\n",
    "        labels = torch.tensor(dataset[:, 4], dtype=torch.float32, device=self.device)\n",
    "        return [examples, labels]\n",
    "    \n",
    "    def __iter__(self):\n",
    "        return self\n",
    "    \n",
    "    def __del__(self):\n",
    "        self.file.close()\n",
    "        \n",
    "iterator = Iterator(file=\"train.tsv\", delim=\"\\t\", device=device)"
   ]
  },
  {
   "cell_type": "code",
   "execution_count": 38,
   "id": "f5e1ea2b-9aec-4ac6-b7fb-f2560b9ad3bd",
   "metadata": {},
   "outputs": [],
   "source": [
    "class Discriminator(nn.Module):\n",
    "    def __init__(self):\n",
    "        super().__init__()\n",
    "        \n",
    "        self.model = nn.Sequential(\n",
    "            nn.Linear(4, 3),\n",
    "            nn.ReLU(),\n",
    "            nn.Linear(3, 1),\n",
    "            nn.ReLU()\n",
    "        )\n",
    "        \n",
    "    def forward(self, x):\n",
    "        return self.model(x)"
   ]
  },
  {
   "cell_type": "code",
   "execution_count": 39,
   "id": "ef311cb6-5675-4c7c-bbc2-8d2693f5fefa",
   "metadata": {},
   "outputs": [],
   "source": [
    "def train(model, iterator, criterion, optimizer):\n",
    "    model.train()\n",
    "    \n",
    "    total_loss = 0\n",
    "    for i, batch in enumerate(iterator):\n",
    "        print(f\"  Batch {i + 1}/{BATCH_NUM}\", end=\"\\r\")\n",
    "        optimizer.zero_grad()\n",
    "        \n",
    "        examples, labels = batch\n",
    "        labels = labels.view(-1, 1)\n",
    "        \n",
    "        outputs = model.forward(examples)\n",
    "        \n",
    "        loss = criterion(outputs, labels)\n",
    "        loss.backward()\n",
    "        \n",
    "        optimizer.step()\n",
    "        \n",
    "        total_loss += loss.item()\n",
    "        \n",
    "    model.eval()\n",
    "    #print()\n",
    "    #print(f\"  Real Data : {model.forward(torch.tensor([1, 0, 1, 0], dtype=torch.float32).to(device)).item()}\")\n",
    "    #print(f\"  Fake Data : {model.forward(torch.tensor([0, 0, 0, 0], dtype=torch.float32).to(device)).item()}\")\n",
    "    \n",
    "    return total_loss / BATCH_NUM"
   ]
  },
  {
   "cell_type": "code",
   "execution_count": 40,
   "id": "dbfd724e-9834-496f-860f-e8ab21de0a84",
   "metadata": {},
   "outputs": [
    {
     "name": "stdout",
     "output_type": "stream",
     "text": [
      "Epoch 1/10\n",
      "  Loss : 0.08115858364105225\n",
      "Epoch 2/10\n",
      "  Loss : 0.022485326915979386\n",
      "Epoch 3/10\n",
      "  Loss : 0.01797101628035307\n",
      "Epoch 4/10\n",
      "  Loss : 0.016887724050320685\n",
      "Epoch 5/10\n",
      "  Loss : 0.016489399135112763\n",
      "Epoch 6/10\n",
      "  Loss : 0.016300717486068605\n",
      "Epoch 7/10\n",
      "  Loss : 0.016194526047445833\n",
      "Epoch 8/10\n",
      "  Loss : 0.016127761744894088\n",
      "Epoch 9/10\n",
      "  Loss : 0.01608292795624584\n",
      "Epoch 10/10\n",
      "  Loss : 0.016051676724106075\n"
     ]
    }
   ],
   "source": [
    "D = Discriminator().to(device)\n",
    "criterion = nn.MSELoss()\n",
    "optimizer = optim.SGD(D.parameters(), lr=0.01)\n",
    "\n",
    "losses = []\n",
    "for epoch in range(EPOCHS):\n",
    "    print(f\"Epoch {epoch + 1}/{EPOCHS}\")\n",
    "    loss = train(D, iterator, criterion, optimizer)\n",
    "    print(f\"  Loss : {loss}\")"
   ]
  },
  {
   "cell_type": "code",
   "execution_count": 41,
   "id": "d4c8fca3-e0c3-4de5-a6d6-a887313256be",
   "metadata": {},
   "outputs": [
    {
     "data": {
      "text/plain": [
       "0.0"
      ]
     },
     "execution_count": 41,
     "metadata": {},
     "output_type": "execute_result"
    }
   ],
   "source": [
    "D.eval()\n",
    "D.forward(torch.tensor([1, 0, 1, 0], dtype=torch.float32).to(device)).item()"
   ]
  },
  {
   "cell_type": "code",
   "execution_count": 42,
   "id": "be08f1cd-c6f1-4f27-a4a6-f59dbdf9ccaa",
   "metadata": {},
   "outputs": [
    {
     "data": {
      "text/plain": [
       "0.0"
      ]
     },
     "execution_count": 42,
     "metadata": {},
     "output_type": "execute_result"
    }
   ],
   "source": [
    "D.forward(torch.tensor([0, 0, 0, 0], dtype=torch.float32).to(device)).item()"
   ]
  },
  {
   "cell_type": "code",
   "execution_count": null,
   "id": "702a401f-0354-4664-8e41-fdb6b6b26e9e",
   "metadata": {},
   "outputs": [],
   "source": []
  }
 ],
 "metadata": {
  "kernelspec": {
   "display_name": "Python 3 (ipykernel)",
   "language": "python",
   "name": "python3"
  },
  "language_info": {
   "codemirror_mode": {
    "name": "ipython",
    "version": 3
   },
   "file_extension": ".py",
   "mimetype": "text/x-python",
   "name": "python",
   "nbconvert_exporter": "python",
   "pygments_lexer": "ipython3",
   "version": "3.8.12"
  }
 },
 "nbformat": 4,
 "nbformat_minor": 5
}
